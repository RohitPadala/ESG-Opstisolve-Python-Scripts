{
 "cells": [
  {
   "cell_type": "code",
   "execution_count": 7,
   "metadata": {},
   "outputs": [
    {
     "name": "stdout",
     "output_type": "stream",
     "text": [
      "Requirement already satisfied: pandas in c:\\users\\rohit padala\\appdata\\local\\programs\\python\\python38\\lib\\site-packages (2.0.3)\n",
      "Requirement already satisfied: pytz>=2020.1 in c:\\users\\rohit padala\\appdata\\local\\programs\\python\\python38\\lib\\site-packages (from pandas) (2023.3)\n",
      "Requirement already satisfied: tzdata>=2022.1 in c:\\users\\rohit padala\\appdata\\local\\programs\\python\\python38\\lib\\site-packages (from pandas) (2023.3)\n",
      "Requirement already satisfied: numpy>=1.20.3; python_version < \"3.10\" in c:\\users\\rohit padala\\appdata\\local\\programs\\python\\python38\\lib\\site-packages (from pandas) (1.24.4)\n",
      "Requirement already satisfied: python-dateutil>=2.8.2 in c:\\users\\rohit padala\\appdata\\local\\programs\\python\\python38\\lib\\site-packages (from pandas) (2.8.2)\n",
      "Requirement already satisfied: six>=1.5 in c:\\users\\rohit padala\\appdata\\local\\programs\\python\\python38\\lib\\site-packages (from python-dateutil>=2.8.2->pandas) (1.16.0)\n"
     ]
    },
    {
     "name": "stderr",
     "output_type": "stream",
     "text": [
      "WARNING: You are using pip version 20.1.1; however, version 24.0 is available.\n",
      "You should consider upgrading via the 'c:\\users\\rohit padala\\appdata\\local\\programs\\python\\python38\\python.exe -m pip install --upgrade pip' command.\n"
     ]
    },
    {
     "name": "stdout",
     "output_type": "stream",
     "text": [
      "Collecting openpyxl\n",
      "  Downloading openpyxl-3.1.2-py2.py3-none-any.whl (249 kB)\n",
      "Collecting et-xmlfile\n",
      "  Downloading et_xmlfile-1.1.0-py3-none-any.whl (4.7 kB)\n",
      "Installing collected packages: et-xmlfile, openpyxl\n",
      "Successfully installed et-xmlfile-1.1.0 openpyxl-3.1.2\n"
     ]
    },
    {
     "name": "stderr",
     "output_type": "stream",
     "text": [
      "WARNING: You are using pip version 20.1.1; however, version 24.0 is available.\n",
      "You should consider upgrading via the 'c:\\users\\rohit padala\\appdata\\local\\programs\\python\\python38\\python.exe -m pip install --upgrade pip' command.\n"
     ]
    }
   ],
   "source": [
    "!pip install pandas\n",
    "!pip install openpyxl"
   ]
  },
  {
   "cell_type": "code",
   "execution_count": 15,
   "metadata": {},
   "outputs": [],
   "source": [
    "import os\n",
    "import pandas as pd\n",
    "\n",
    "# Step 1: Read Excel file\n",
    "excel_file_path = r\"C:\\Users\\Rohit Padala\\OneDrive\\Desktop\\ESG Database Test\\Book1.xlsx\"\n",
    "df = pd.read_excel(excel_file_path)\n",
    "\n",
    "# Step 2: Iterate through each row in the DataFrame\n",
    "for index, row in df.iterrows():\n",
    "    company_name = row['Name of company']\n",
    "    company_symbol = row['Symbol of company']\n",
    "    company_sector = row['Sector of company']\n",
    "    \n",
    "    # Step 3: Rename subfolder to company symbol\n",
    "    subfolder_path = os.path.join(r\"C:\\Users\\Rohit Padala\\OneDrive\\Desktop\\ESG Database Test\", company_name)\n",
    "    new_subfolder_path = os.path.join(r\"C:\\Users\\Rohit Padala\\OneDrive\\Desktop\\ESG Database Test\", company_symbol)\n",
    "    os.rename(subfolder_path, new_subfolder_path)\n",
    "    \n",
    "    # Step 4: Iterate through files in the subfolder\n",
    "    for file_name in os.listdir(new_subfolder_path):\n",
    "        if file_name.endswith(\"Report.pdf\"):\n",
    "            # Extract year from file name\n",
    "            year = file_name.split()[0]\n",
    "            \n",
    "            # Construct new file name\n",
    "            new_file_name = f\"{year}_{company_symbol}.pdf\"\n",
    "            \n",
    "            # Rename the file\n",
    "            os.rename(os.path.join(new_subfolder_path, file_name),\n",
    "                      os.path.join(new_subfolder_path, new_file_name))\n",
    "    \n",
    "    # Step 5: Create company sector folder if not exists\n",
    "    sector_folder_path = os.path.join(r\"C:\\Users\\Rohit Padala\\OneDrive\\Desktop\\ESG Database Test\", company_sector)\n",
    "    if not os.path.exists(sector_folder_path):\n",
    "        os.makedirs(sector_folder_path)\n",
    "    \n",
    "    # Step 6: Move company folder to sector folder\n",
    "    os.rename(new_subfolder_path, os.path.join(sector_folder_path, company_symbol))\n"
   ]
  }
 ],
 "metadata": {
  "kernelspec": {
   "display_name": "Python 3",
   "language": "python",
   "name": "python3"
  },
  "language_info": {
   "codemirror_mode": {
    "name": "ipython",
    "version": 3
   },
   "file_extension": ".py",
   "mimetype": "text/x-python",
   "name": "python",
   "nbconvert_exporter": "python",
   "pygments_lexer": "ipython3",
   "version": "3.8.5"
  }
 },
 "nbformat": 4,
 "nbformat_minor": 2
}
